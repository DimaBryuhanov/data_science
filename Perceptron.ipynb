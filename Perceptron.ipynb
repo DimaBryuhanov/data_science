{
 "cells": [
  {
   "cell_type": "markdown",
   "metadata": {},
   "source": [
    "# Perceptron\n",
    "*Perceptron* is a neural network with just one layer.\n",
    "It's a linear classifier that outputs a binary responce variable.\n",
    "Therefore, the algorithm is called: \"linear binary classifier\".\n",
    "\n",
    "### Linear separability:\n",
    "1. Data must be cleanly separable into two classes\n",
    "2. It must be LINEARLY separable\n",
    "\n",
    "### Composed of elements:\n",
    "1. Input layer\n",
    "2. Weights & bias\n",
    "3. Weighted sum\n",
    "4. Activation function - mathematical function deployed on every unit of the NN.\n",
    "\n",
    "All units of the same layer share the same activation function.\n",
    "\n",
    "### Activation functions:\n",
    "1. Linear Activation: in a single layer perceptron\n",
    "2. Logistic Sigmoid: good for the final layer with binary outcomes\n",
    "3. Threshold: good with binary data\n",
    "4. ReLU: (rectified linear unit)\n",
    "5. Softmax\n",
    "\n",
    "## Setup"
   ]
  },
  {
   "cell_type": "code",
   "execution_count": 1,
   "metadata": {},
   "outputs": [],
   "source": [
    "import numpy as np\n",
    "import pandas as pd\n",
    "import sklearn\n",
    "\n",
    "from pandas import Series, DataFrame\n",
    "from sklearn import datasets\n",
    "from sklearn.preprocessing import StandardScaler\n",
    "from sklearn.model_selection import train_test_split\n",
    "from sklearn.metrics import confusion_matrix, classification_report\n"
   ]
  },
  {
   "cell_type": "code",
   "execution_count": 2,
   "metadata": {},
   "outputs": [],
   "source": [
    "from sklearn.linear_model import Perceptron"
   ]
  },
  {
   "cell_type": "code",
   "execution_count": 3,
   "metadata": {},
   "outputs": [],
   "source": [
    "iris = datasets.load_iris()\n",
    "X = iris.data\n",
    "y = iris.target"
   ]
  },
  {
   "cell_type": "code",
   "execution_count": 4,
   "metadata": {},
   "outputs": [
    {
     "data": {
      "text/plain": [
       "array([[5.1, 3.5, 1.4, 0.2],\n",
       "       [4.9, 3. , 1.4, 0.2],\n",
       "       [4.7, 3.2, 1.3, 0.2],\n",
       "       [4.6, 3.1, 1.5, 0.2],\n",
       "       [5. , 3.6, 1.4, 0.2],\n",
       "       [5.4, 3.9, 1.7, 0.4],\n",
       "       [4.6, 3.4, 1.4, 0.3],\n",
       "       [5. , 3.4, 1.5, 0.2],\n",
       "       [4.4, 2.9, 1.4, 0.2],\n",
       "       [4.9, 3.1, 1.5, 0.1]])"
      ]
     },
     "execution_count": 4,
     "metadata": {},
     "output_type": "execute_result"
    }
   ],
   "source": [
    "X[:10,]"
   ]
  },
  {
   "cell_type": "code",
   "execution_count": 5,
   "metadata": {},
   "outputs": [],
   "source": [
    "X_train, X_test, y_train, y_test = train_test_split(X, y, test_size=0.2)"
   ]
  },
  {
   "cell_type": "code",
   "execution_count": 6,
   "metadata": {},
   "outputs": [],
   "source": [
    "standardize = StandardScaler()\n",
    "standardized_X_train = standardize.fit_transform(X_train)\n",
    "standardized_X_test = standardize.fit_transform(X_test)"
   ]
  },
  {
   "cell_type": "code",
   "execution_count": 7,
   "metadata": {},
   "outputs": [
    {
     "data": {
      "text/plain": [
       "array([[-0.79030818,  0.9871338 , -1.22945004, -1.08165034],\n",
       "       [-0.4269481 ,  1.87945814, -1.06147964, -0.94960758],\n",
       "       [ 0.66313215, -1.24367705,  0.78619481,  1.03103395],\n",
       "       [ 0.78425218,  0.09480946,  1.06614548,  0.89899118],\n",
       "       [-1.03254824, -1.24367705,  0.50624414,  0.76694841],\n",
       "       [-0.91142821,  0.9871338 , -1.28544018, -1.08165034],\n",
       "       [ 1.14761226, -0.12827162,  0.78619481,  0.76694841],\n",
       "       [-0.91142821, -2.35908248, -0.05365721, -0.15735097],\n",
       "       [-0.79030818,  1.65637706, -0.94949937, -0.94960758],\n",
       "       [-1.15366827,  0.76405272, -1.11746977, -1.21369311]])"
      ]
     },
     "execution_count": 7,
     "metadata": {},
     "output_type": "execute_result"
    }
   ],
   "source": [
    "standardized_X_train[:10]"
   ]
  },
  {
   "cell_type": "code",
   "execution_count": 8,
   "metadata": {},
   "outputs": [
    {
     "data": {
      "text/plain": [
       "array([[ 1.10660574,  0.3833636 ,  0.19812786, -0.17636891],\n",
       "       [-0.28827545, -0.41902533,  0.06304068, -0.02939482],\n",
       "       [-0.42776356, -0.15156235,  0.46830221,  0.41152745],\n",
       "       [ 0.40916515, -0.68648831,  0.13058427, -0.02939482],\n",
       "       [ 0.96711762,  0.3833636 ,  0.87356374,  1.14639788],\n",
       "       [-0.28827545, -2.29126617, -0.27467726, -0.76426526],\n",
       "       [ 0.40916515, -0.15156235,  0.5358458 ,  0.70547562],\n",
       "       [ 0.26967703,  0.3833636 ,  0.60338939,  1.14639788],\n",
       "       [ 1.38558198,  1.45321551,  1.14373809,  1.44034606],\n",
       "       [ 1.24609386, -0.15156235,  1.00865092,  0.85244971]])"
      ]
     },
     "execution_count": 8,
     "metadata": {},
     "output_type": "execute_result"
    }
   ],
   "source": [
    "standardized_X_test[:10]"
   ]
  },
  {
   "cell_type": "code",
   "execution_count": 9,
   "metadata": {},
   "outputs": [
    {
     "data": {
      "text/plain": [
       "Perceptron(eta0=0.15, max_iter=50, random_state=15)"
      ]
     },
     "execution_count": 9,
     "metadata": {},
     "output_type": "execute_result"
    }
   ],
   "source": [
    "perceptron = Perceptron(max_iter=50, eta0=0.15, tol=1e-3, random_state=15)\n",
    "perceptron.fit(standardized_X_train, y_train.ravel())"
   ]
  },
  {
   "cell_type": "code",
   "execution_count": 10,
   "metadata": {},
   "outputs": [],
   "source": [
    "y_pred = perceptron.predict(standardized_X_test)"
   ]
  },
  {
   "cell_type": "code",
   "execution_count": 11,
   "metadata": {},
   "outputs": [
    {
     "name": "stdout",
     "output_type": "stream",
     "text": [
      "[1 1 2 1 2 1 2 2 2 2 2 0 0 1 0 2 1 1 2 2 2 0 2 1 2 1 2 0 1 1]\n",
      "[0 1 1 1 2 1 1 2 2 2 1 0 0 1 0 1 1 0 2 2 1 0 1 1 2 1 2 0 1 0]\n"
     ]
    }
   ],
   "source": [
    "print(y_test)\n",
    "print(y_pred)"
   ]
  },
  {
   "cell_type": "code",
   "execution_count": 13,
   "metadata": {},
   "outputs": [
    {
     "name": "stdout",
     "output_type": "stream",
     "text": [
      "              precision    recall  f1-score   support\n",
      "\n",
      "           0       0.62      1.00      0.77         5\n",
      "           1       0.57      0.73      0.64        11\n",
      "           2       1.00      0.57      0.73        14\n",
      "\n",
      "    accuracy                           0.70        30\n",
      "   macro avg       0.73      0.77      0.71        30\n",
      "weighted avg       0.78      0.70      0.70        30\n",
      "\n"
     ]
    }
   ],
   "source": [
    "print(classification_report(y_test, y_pred))"
   ]
  },
  {
   "cell_type": "code",
   "execution_count": null,
   "metadata": {},
   "outputs": [],
   "source": []
  }
 ],
 "metadata": {
  "kernelspec": {
   "display_name": "Python 3",
   "language": "python",
   "name": "python3"
  },
  "language_info": {
   "codemirror_mode": {
    "name": "ipython",
    "version": 3
   },
   "file_extension": ".py",
   "mimetype": "text/x-python",
   "name": "python",
   "nbconvert_exporter": "python",
   "pygments_lexer": "ipython3",
   "version": "3.8.3"
  }
 },
 "nbformat": 4,
 "nbformat_minor": 4
}

{
 "cells": [
  {
   "cell_type": "markdown",
   "metadata": {},
   "source": [
    "# Factor Analysis\n",
    "\n",
    "A method of data exploration, which explains why data is acting a certain way\n",
    "\n",
    "Factors (also called Latent Variables) are infered rather than directly observable.\n",
    "\n",
    "## This model assumes that:\n",
    "1. features are metric\n",
    "2. continuous or ordinal\n",
    "3. the r > 0.3 (correlation coefficient) between the features in the dataset\n",
    "4. there's > 100 observations and > 5 observations per feature\n",
    "5. the sample is homogenious\n",
    "\n",
    "## Factor loading:\n",
    "\n",
    "~ -1 | 1 - has strong influence on a variable\n",
    "~ 0 has no or weak influence on a variable\n",
    "'>' 1 = highly correlated variables"
   ]
  },
  {
   "cell_type": "code",
   "execution_count": 1,
   "metadata": {},
   "outputs": [],
   "source": [
    "import numpy as np\n",
    "import pandas as pd\n",
    "\n",
    "import sklearn\n",
    "from sklearn.decomposition import FactorAnalysis\n",
    "from sklearn import datasets"
   ]
  },
  {
   "cell_type": "code",
   "execution_count": null,
   "metadata": {},
   "outputs": [],
   "source": [
    "iris = datasets.load_iris()\n",
    "\n",
    "X = iris.data\n",
    "y = iris.target\n",
    "\n"
   ]
  }
 ],
 "metadata": {
  "kernelspec": {
   "display_name": "Python 3",
   "language": "python",
   "name": "python3"
  },
  "language_info": {
   "codemirror_mode": {
    "name": "ipython",
    "version": 3
   },
   "file_extension": ".py",
   "mimetype": "text/x-python",
   "name": "python",
   "nbconvert_exporter": "python",
   "pygments_lexer": "ipython3",
   "version": "3.8.3"
  }
 },
 "nbformat": 4,
 "nbformat_minor": 4
}
